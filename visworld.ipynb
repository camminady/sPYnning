{
 "cells": [
  {
   "cell_type": "code",
   "execution_count": null,
   "metadata": {},
   "outputs": [],
   "source": [
    "from helpers import getlands,colorland, diffusion,identity,getcountries, getcountriescolors\n",
    "from icoquadrature import getquadrature\n",
    "from spynning import spyn\n",
    "import numpy as np\n",
    "import matplotlib "
   ]
  },
  {
   "cell_type": "code",
   "execution_count": null,
   "metadata": {},
   "outputs": [],
   "source": [
    "nq = 7292\n",
    "quadrature = getquadrature(nq)"
   ]
  },
  {
   "cell_type": "code",
   "execution_count": null,
   "metadata": {},
   "outputs": [],
   "source": [
    "states = getcountriescolors(quadrature) # Returns colors, not states\n",
    "colormapping = lambda state : state # identify\n",
    "spyn(\n",
    "    states=states,\n",
    "    quadrature=quadrature,\n",
    "    updatefunction=identity,\n",
    "    colormapping = colormapping,\n",
    "    angles1 = 30+np.zeros(10),\n",
    "    angles2 = -np.linspace(0,360,11)[:-1],\n",
    "    updatefrequency = 1,\n",
    "    gifname = \"my.gif\",\n",
    "    framepause = 100,\n",
    "    saveframes = True,\n",
    "    saveframesprefix = \"frame_\",\n",
    "    printprogress = True\n",
    "    )"
   ]
  },
  {
   "cell_type": "code",
   "execution_count": null,
   "metadata": {},
   "outputs": [],
   "source": [
    "states = getlands(quadrature)\n",
    "colormapping = colorland\n",
    "spyn(\n",
    "    states=states,\n",
    "    quadrature=quadrature,\n",
    "    updatefunction=identity,\n",
    "    colormapping = colormapping,\n",
    "    angles1 = np.zeros(10),\n",
    "    angles2 = -np.linspace(0,360,11)[:-1],\n",
    "    updatefrequency = 1,\n",
    "    gifname = \"my.gif\",\n",
    "    framepause = 100,\n",
    "    saveframes = True,\n",
    "    saveframesprefix = \"frame_\",\n",
    "    printprogress = True\n",
    "    )"
   ]
  },
  {
   "cell_type": "code",
   "execution_count": null,
   "metadata": {},
   "outputs": [],
   "source": [
    "states = 0.7*getlands(quadrature)\n",
    "colormapping = matplotlib.cm.get_cmap('terrain')\n",
    "\n",
    "spyn(\n",
    "    states=states,\n",
    "    quadrature=quadrature,\n",
    "    updatefunction=diffusion,\n",
    "    colormapping = colormapping,\n",
    "    angles1 = np.zeros(100),\n",
    "    angles2 = -np.linspace(0,360,101)[:-1],\n",
    "    updatefrequency = 1,\n",
    "    gifname = \"my.gif\",\n",
    "    framepause = 100,\n",
    "    saveframes = True,\n",
    "    saveframesprefix = \"frame_\",\n",
    "    printprogress = True\n",
    "    )"
   ]
  },
  {
   "cell_type": "code",
   "execution_count": null,
   "metadata": {},
   "outputs": [],
   "source": []
  }
 ],
 "metadata": {
  "kernelspec": {
   "display_name": "Python 3",
   "language": "python",
   "name": "python3"
  },
  "language_info": {
   "codemirror_mode": {
    "name": "ipython",
    "version": 3
   },
   "file_extension": ".py",
   "mimetype": "text/x-python",
   "name": "python",
   "nbconvert_exporter": "python",
   "pygments_lexer": "ipython3",
   "version": "3.7.7"
  }
 },
 "nbformat": 4,
 "nbformat_minor": 4
}
